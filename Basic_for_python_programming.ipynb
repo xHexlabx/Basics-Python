{
  "nbformat": 4,
  "nbformat_minor": 0,
  "metadata": {
    "colab": {
      "provenance": [],
      "collapsed_sections": []
    },
    "kernelspec": {
      "name": "python3",
      "display_name": "Python 3"
    },
    "language_info": {
      "name": "python"
    },
    "accelerator": "GPU",
    "gpuClass": "standard"
  },
  "cells": [
    {
      "cell_type": "markdown",
      "source": [
        "# Class and Inheritance\n",
        "about class"
      ],
      "metadata": {
        "id": "JzoaffE7Oyvv"
      }
    },
    {
      "cell_type": "code",
      "execution_count": null,
      "metadata": {
        "id": "e3Psv2k1U0V9"
      },
      "outputs": [],
      "source": [
        "class Person :\n",
        "\n",
        "    def __init__(self , fullname , surname)  :\n",
        "\n",
        "        self.fullname = fullname \n",
        "        self.surname = surname \n",
        "\n",
        "    \n",
        "    def display(self):\n",
        "        print(self.fullname , self.surname)"
      ]
    },
    {
      "cell_type": "code",
      "source": [
        "Neen = Person(\"Neen\" , \"Saereerak\")\n",
        "Neen.display()"
      ],
      "metadata": {
        "id": "RRYoCZxMiYN-"
      },
      "execution_count": null,
      "outputs": []
    },
    {
      "cell_type": "code",
      "source": [
        "class Student(Person) :\n",
        "\n",
        "    def __init__(self , fullname , surname) :\n",
        "        super().__init__(fullname , surname)"
      ],
      "metadata": {
        "id": "-AlkQsipivoT"
      },
      "execution_count": null,
      "outputs": []
    },
    {
      "cell_type": "code",
      "source": [
        "Tokyo = Student(\"Tee\" , \"Hemjinda\")\n",
        "Tokyo.display()"
      ],
      "metadata": {
        "id": "ZUP3lHcPjBk_"
      },
      "execution_count": null,
      "outputs": []
    },
    {
      "cell_type": "code",
      "source": [
        "%pwd"
      ],
      "metadata": {
        "id": "jnBoJnxBP7tR"
      },
      "execution_count": null,
      "outputs": []
    },
    {
      "cell_type": "code",
      "source": [
        "%ls"
      ],
      "metadata": {
        "id": "G32_ly-SSglJ"
      },
      "execution_count": null,
      "outputs": []
    },
    {
      "cell_type": "markdown",
      "source": [
        "# Numpy"
      ],
      "metadata": {
        "id": "_DhMK4GmcGWd"
      }
    },
    {
      "cell_type": "code",
      "source": [
        "!pip install numpy"
      ],
      "metadata": {
        "id": "TqNaSsXvcZZ4"
      },
      "execution_count": null,
      "outputs": []
    },
    {
      "cell_type": "code",
      "source": [
        "import numpy as np"
      ],
      "metadata": {
        "id": "b9aKfVCzcKf4"
      },
      "execution_count": null,
      "outputs": []
    },
    {
      "cell_type": "code",
      "source": [
        "arr = np.array(15)"
      ],
      "metadata": {
        "id": "jGp9WntdcLEH"
      },
      "execution_count": null,
      "outputs": []
    },
    {
      "cell_type": "code",
      "source": [
        "arr"
      ],
      "metadata": {
        "id": "3L8iBzamcRB5"
      },
      "execution_count": null,
      "outputs": []
    },
    {
      "cell_type": "code",
      "source": [
        "arr = np.array([1 , 2 , 3 , 4 , 5])"
      ],
      "metadata": {
        "id": "M0XCqkdOcdbU"
      },
      "execution_count": null,
      "outputs": []
    },
    {
      "cell_type": "code",
      "source": [
        "arr"
      ],
      "metadata": {
        "id": "5Z61SN8ochnC"
      },
      "execution_count": null,
      "outputs": []
    },
    {
      "cell_type": "code",
      "source": [
        "arr.ndim"
      ],
      "metadata": {
        "id": "J7zxrqUYch8r"
      },
      "execution_count": null,
      "outputs": []
    },
    {
      "cell_type": "code",
      "source": [
        "arr = np.array([ [1, 2 ,3 , 4] , [1, 2 , 3 , 4]])"
      ],
      "metadata": {
        "id": "0q5hkf4rcjzZ"
      },
      "execution_count": null,
      "outputs": []
    },
    {
      "cell_type": "code",
      "source": [
        "arr"
      ],
      "metadata": {
        "id": "bFLpXStAcplM"
      },
      "execution_count": null,
      "outputs": []
    },
    {
      "cell_type": "code",
      "source": [
        "arr.ndim"
      ],
      "metadata": {
        "id": "NjEE_CZEcqJf"
      },
      "execution_count": null,
      "outputs": []
    },
    {
      "cell_type": "code",
      "source": [
        "arr = np.array([1, 2, 3, 4], ndmin=5)\n",
        "print(arr)\n",
        "print('number of dimensions :', arr.ndim)"
      ],
      "metadata": {
        "id": "ptLkwMPNcrvM"
      },
      "execution_count": null,
      "outputs": []
    },
    {
      "cell_type": "code",
      "source": [
        "arr = np.array([ [1,2,3] , [1,2,3]] )\n",
        "print(arr)"
      ],
      "metadata": {
        "id": "SyP4IaUwcv5y"
      },
      "execution_count": null,
      "outputs": []
    },
    {
      "cell_type": "code",
      "source": [
        "arr[1][0]"
      ],
      "metadata": {
        "id": "GAJan_bAc-bL"
      },
      "execution_count": null,
      "outputs": []
    },
    {
      "cell_type": "code",
      "source": [
        "arr = np.array([1 , 2 , 3 , 4, 5])\n",
        "arr[0:5]"
      ],
      "metadata": {
        "id": "MxWiYtapdYif"
      },
      "execution_count": null,
      "outputs": []
    },
    {
      "cell_type": "code",
      "source": [
        "arr = np.array([10, 15, 20, 25, 30, 35, 40])\n",
        "\n",
        "print(arr[1:4:2])"
      ],
      "metadata": {
        "id": "IUykwMltd4cM"
      },
      "execution_count": null,
      "outputs": []
    },
    {
      "cell_type": "code",
      "source": [
        "print(arr[0:7:3])"
      ],
      "metadata": {
        "id": "5hVoHUaQeXNR"
      },
      "execution_count": null,
      "outputs": []
    },
    {
      "cell_type": "code",
      "source": [
        "arr[:2]"
      ],
      "metadata": {
        "id": "Wp4jcfirfd31"
      },
      "execution_count": null,
      "outputs": []
    },
    {
      "cell_type": "code",
      "source": [
        "arr = np.array([[1, 2, 3, 4, 5], [6, 7, 8, 9, 10]])\n",
        "\n",
        "print(arr[1, 1:4])"
      ],
      "metadata": {
        "id": "Cd4uh0hBegDO"
      },
      "execution_count": null,
      "outputs": []
    },
    {
      "cell_type": "code",
      "source": [
        "arr = np.array([1 , 2 , 3 , 4 ,5])\n",
        "x = arr.view()\n",
        "arr[0] = 10"
      ],
      "metadata": {
        "id": "8VSAmC7dgM0Z"
      },
      "execution_count": null,
      "outputs": []
    },
    {
      "cell_type": "code",
      "source": [
        "print(arr , x)"
      ],
      "metadata": {
        "id": "CDEiGEsGhfWC"
      },
      "execution_count": null,
      "outputs": []
    },
    {
      "cell_type": "code",
      "source": [
        "arr = np.array([1 , 2 , 3 , 4 ,5])\n",
        "x = arr.copy()\n",
        "arr[0] = 10"
      ],
      "metadata": {
        "id": "ukAU4dNnhgD-"
      },
      "execution_count": null,
      "outputs": []
    },
    {
      "cell_type": "code",
      "source": [
        "print(arr , x)"
      ],
      "metadata": {
        "id": "vFluKZH3hhvz"
      },
      "execution_count": null,
      "outputs": []
    },
    {
      "cell_type": "code",
      "source": [
        "arr = np.array([1, 2, 3, 4, 5])\n",
        "\n",
        "x = arr.copy()\n",
        "y = arr.view()\n",
        "y[1] = 10\n",
        "print(x.base)\n",
        "print(y.base)\n",
        "print(arr.base)"
      ],
      "metadata": {
        "id": "iovc68LXjqXi"
      },
      "execution_count": null,
      "outputs": []
    },
    {
      "cell_type": "code",
      "source": [
        "arr = np.zeros([3 , 4])\n",
        "arr"
      ],
      "metadata": {
        "id": "nAmRgvMOj1jT"
      },
      "execution_count": null,
      "outputs": []
    },
    {
      "cell_type": "code",
      "source": [
        "arr = np.arange(0 , 9)\n",
        "arr"
      ],
      "metadata": {
        "id": "YyOLmVCxEpP5"
      },
      "execution_count": null,
      "outputs": []
    },
    {
      "cell_type": "code",
      "source": [
        "arr.reshape(1 , 3 , 3)"
      ],
      "metadata": {
        "id": "lGxeCGfHEwAC"
      },
      "execution_count": null,
      "outputs": []
    },
    {
      "cell_type": "code",
      "source": [
        "arr = np.linspace(1 , 5 , 10)"
      ],
      "metadata": {
        "id": "ZdQX2rxSE0MO"
      },
      "execution_count": null,
      "outputs": []
    },
    {
      "cell_type": "code",
      "source": [
        "arr"
      ],
      "metadata": {
        "id": "Rcn_V12wF1-i"
      },
      "execution_count": null,
      "outputs": []
    },
    {
      "cell_type": "code",
      "source": [
        "arr = np.array([[1 , 1] , [1 , 0]])\n",
        "arr"
      ],
      "metadata": {
        "id": "SSKJDSsxF2gt"
      },
      "execution_count": null,
      "outputs": []
    },
    {
      "cell_type": "code",
      "source": [
        "arr.dot(arr).dot(arr).dot(arr)"
      ],
      "metadata": {
        "id": "cvglbA-TGW1l"
      },
      "execution_count": null,
      "outputs": []
    },
    {
      "cell_type": "code",
      "source": [
        "arr = np.arange(1 , 10)\n",
        "arr = arr.reshape(3 , 3)"
      ],
      "metadata": {
        "id": "4LWTfyd2GbDJ"
      },
      "execution_count": null,
      "outputs": []
    },
    {
      "cell_type": "code",
      "source": [
        "arr[0].max()"
      ],
      "metadata": {
        "id": "Xk1g87ZUG0ND"
      },
      "execution_count": null,
      "outputs": []
    }
  ]
}